{
 "cells": [
  {
   "cell_type": "code",
   "execution_count": 1,
   "id": "d437755c",
   "metadata": {},
   "outputs": [
    {
     "name": "stderr",
     "output_type": "stream",
     "text": [
      "2025-08-07 01:12:11.755 WARNING streamlit.runtime.scriptrunner_utils.script_run_context: Thread 'MainThread': missing ScriptRunContext! This warning can be ignored when running in bare mode.\n",
      "2025-08-07 01:12:11.755 WARNING streamlit.runtime.scriptrunner_utils.script_run_context: Thread 'MainThread': missing ScriptRunContext! This warning can be ignored when running in bare mode.\n",
      "2025-08-07 01:12:11.813 \n",
      "  \u001b[33m\u001b[1mWarning:\u001b[0m to view this Streamlit app on a browser, run it with the following\n",
      "  command:\n",
      "\n",
      "    streamlit run /opt/anaconda3/lib/python3.11/site-packages/ipykernel_launcher.py [ARGUMENTS]\n",
      "2025-08-07 01:12:11.813 Thread 'MainThread': missing ScriptRunContext! This warning can be ignored when running in bare mode.\n",
      "2025-08-07 01:12:11.813 Thread 'MainThread': missing ScriptRunContext! This warning can be ignored when running in bare mode.\n",
      "2025-08-07 01:12:11.814 Thread 'MainThread': missing ScriptRunContext! This warning can be ignored when running in bare mode.\n",
      "2025-08-07 01:12:11.814 Thread 'MainThread': missing ScriptRunContext! This warning can be ignored when running in bare mode.\n",
      "2025-08-07 01:12:11.814 Thread 'MainThread': missing ScriptRunContext! This warning can be ignored when running in bare mode.\n",
      "2025-08-07 01:12:11.814 Thread 'MainThread': missing ScriptRunContext! This warning can be ignored when running in bare mode.\n",
      "2025-08-07 01:12:11.814 Session state does not function when running a script without `streamlit run`\n",
      "2025-08-07 01:12:11.815 Thread 'MainThread': missing ScriptRunContext! This warning can be ignored when running in bare mode.\n",
      "2025-08-07 01:12:11.815 Thread 'MainThread': missing ScriptRunContext! This warning can be ignored when running in bare mode.\n",
      "2025-08-07 01:12:11.815 Thread 'MainThread': missing ScriptRunContext! This warning can be ignored when running in bare mode.\n",
      "2025-08-07 01:12:11.815 Thread 'MainThread': missing ScriptRunContext! This warning can be ignored when running in bare mode.\n",
      "2025-08-07 01:12:11.815 Thread 'MainThread': missing ScriptRunContext! This warning can be ignored when running in bare mode.\n",
      "2025-08-07 01:12:11.815 Thread 'MainThread': missing ScriptRunContext! This warning can be ignored when running in bare mode.\n",
      "2025-08-07 01:12:11.815 Thread 'MainThread': missing ScriptRunContext! This warning can be ignored when running in bare mode.\n",
      "2025-08-07 01:12:11.815 Thread 'MainThread': missing ScriptRunContext! This warning can be ignored when running in bare mode.\n",
      "2025-08-07 01:12:11.816 Thread 'MainThread': missing ScriptRunContext! This warning can be ignored when running in bare mode.\n"
     ]
    }
   ],
   "source": [
    "import streamlit as st\n",
    "\n",
    "st.set_page_config(page_title=\"Promotion Dashboard\", layout=\"wide\")\n",
    "\n",
    "st.title(\"🌟 Promotion Summary - Your Name\")\n",
    "\n",
    "section = st.sidebar.radio(\"Go to\", [\"Journey\", \"Feedback\", \"Promotion Matrix\", \"Growth Plan\"])\n",
    "\n",
    "if section == \"Journey\":\n",
    "    st.header(\"🚀 The Journey So Far\")\n",
    "    st.write(\"Client experiences, key responsibilities, and highlights go here.\")\n",
    "\n",
    "elif section == \"Feedback\":\n",
    "    st.header(\"💬 Feedback Summary\")\n",
    "    st.success(\"Client Focus and Empathy: Shown across multiple delivery environments...\")\n",
    "    st.info(\"Initiative and Ownership: Took ownership during ambiguity...\")\n",
    "\n",
    "elif section == \"Promotion Matrix\":\n",
    "    st.header(\"📊 Promotion Matrix\")\n",
    "\n",
    "    st.subheader(\"Overview\")\n",
    "    st.markdown(\"- Led the reporting stream at AusPost...\")\n",
    "\n",
    "    st.subheader(\"Relationship Building\")\n",
    "    st.markdown(\"- Built trust with IAG and vendor KPMG...\")\n",
    "\n",
    "elif section == \"Growth Plan\":\n",
    "    st.header(\"🌱 Growth Plan\")\n",
    "    st.markdown(\"- Be involved in more DS/ML projects\")\n",
    "    st.markdown(\"- Lead presales conversations and proposals\")\n"
   ]
  }
 ],
 "metadata": {
  "kernelspec": {
   "display_name": "Python 3 (ipykernel)",
   "language": "python",
   "name": "python3"
  },
  "language_info": {
   "codemirror_mode": {
    "name": "ipython",
    "version": 3
   },
   "file_extension": ".py",
   "mimetype": "text/x-python",
   "name": "python",
   "nbconvert_exporter": "python",
   "pygments_lexer": "ipython3",
   "version": "3.11.7"
  }
 },
 "nbformat": 4,
 "nbformat_minor": 5
}
